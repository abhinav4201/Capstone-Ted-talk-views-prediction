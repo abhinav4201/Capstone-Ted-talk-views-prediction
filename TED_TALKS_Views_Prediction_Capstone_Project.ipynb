{
  "nbformat": 4,
  "nbformat_minor": 0,
  "metadata": {
    "colab": {
      "provenance": [],
      "collapsed_sections": [
        "wrzjC0Mok1i3",
        "ZKfhtL7Km9C6",
        "WqFb20Qv23jS",
        "O_PZsK0mhc6d",
        "C-FQYZspt70O",
        "cFRmN07l92uI",
        "Ng5FvSk8-Duj",
        "ADSPLnGgjCd8"
      ],
      "toc_visible": true,
      "include_colab_link": true
    },
    "kernelspec": {
      "name": "python3",
      "display_name": "Python 3"
    },
    "language_info": {
      "name": "python"
    }
  },
  "cells": [
    {
      "cell_type": "markdown",
      "metadata": {
        "id": "view-in-github",
        "colab_type": "text"
      },
      "source": [
        "<a href=\"https://colab.research.google.com/github/abhinav4201/Capstone-Ted-talk-views-prediction/blob/main/TED_TALKS_Views_Prediction_Capstone_Project.ipynb\" target=\"_parent\"><img src=\"https://colab.research.google.com/assets/colab-badge.svg\" alt=\"Open In Colab\"/></a>"
      ]
    },
    {
      "cell_type": "markdown",
      "source": [
        "#**<font color='#FF3206'>TED TALKS VIEWS PREDICTION**\n",
        "\n",
        "---\n",
        "\n",
        "A ***TED talk*** is a ***public speaking*** event in the form of ***recorded video*** presentation which is originally aired at the main TED annual event. **TED** refers to **Technology**, **Entertainment**, **Design**. TED Conferences, LLC is an American-Canadian non-profit media organization that has the main ideology of finding and sharing knowledge of the experts from different fields amoung the community.\n",
        "\n",
        "TED was founded by **Richard Saul Wurman** and **Harry Marks** in February **1984** as a tech conference. Till date more than **13000** TED event has been held in **150 countries** by TED and its sister TEDx for free consumption by all sorts of people. TED Conferences have gone on to become the Mecca of ideas from virtually all walks of life. <u>Al Gore</u>, <u>Jimmy Wales</u>, <u>Shahrukh Khan</u>, and <u>Bill Gates</u> are among the luminaries on its speaker roster</u>."
      ],
      "metadata": {
        "id": "B0XOoVbPJFDr"
      }
    },
    {
      "cell_type": "markdown",
      "source": [
        "<center><h2>“Identify your problems, but give your power and energy to solutions.”</h2></center>\n",
        "<p align=right><b>~ Tony Robbins</b>, American author, coach, speaker, and philanthropist</p><br>"
      ],
      "metadata": {
        "id": "ZTVBz_1IanYa"
      }
    },
    {
      "cell_type": "markdown",
      "source": [
        "<center><img src=\"https://drive.google.com/uc?id=1GYFKSzG8Ri--DSr1VbMFgdPiPTLidoCT\" width = \"90%\" height=\"260px\" /> </center>"
      ],
      "metadata": {
        "id": "42q_tL_ia0X9"
      }
    },
    {
      "cell_type": "markdown",
      "source": [
        "##**Objective**\n",
        "\n",
        "---\n",
        "\n",
        "The main goal is to create a **prediction model** using <u><b> Supervised Regression </b></u> so that it may be used to <u><b> foretell how many people will watch a certain video </b></u> that has been posted to TEDx website."
      ],
      "metadata": {
        "id": "Ndu3U7YhhjEt"
      }
    },
    {
      "cell_type": "markdown",
      "source": [
        "##**Importing Required Libraries**\n",
        "\n",
        "---\n",
        "\n",
        "All required libraries are imported at once in order to have smooth workflow. These libraries have used in data manipulation, plotting graphs, modelling etc."
      ],
      "metadata": {
        "id": "wrzjC0Mok1i3"
      }
    },
    {
      "cell_type": "code",
      "source": [
        "# Here data visualization libraries(matplotlib and seaborn) are imported.\n",
        "import matplotlib.pyplot as plt\n",
        "%matplotlib inline\n",
        "import seaborn as sns\n",
        "sns.set_style(\"ticks\")\n",
        "#sns.set_context(\"poster\");\n",
        "sns.set_context(\"poster\");\n",
        "\n",
        "# Importing numpy, pandas and tensorflow\n",
        "import pandas as pd\n",
        "import numpy as np\n",
        "import tensorflow as tf\n",
        "import ast\n",
        "\n",
        "#importing rcParam\n",
        "# from pylab import rcParams\n",
        "# rcParams['figure.figsize'] = 8, 8\n",
        "\n",
        "# Datetime library for manipulating Date columns.\n",
        "from datetime import datetime\n",
        "import calendar\n",
        "\n",
        "# from sci-kit library scaling, transforming and labeling functions are brought\n",
        "# which is used to change raw feature vectors into a representation that is more \n",
        "# suitable for the downstream estimators. \n",
        "from sklearn.preprocessing import MinMaxScaler\n",
        "from sklearn.preprocessing import OneHotEncoder\n",
        "from sklearn.preprocessing import MultiLabelBinarizer\n",
        "\n",
        "# Importing various machine learning models.\n",
        "from sklearn.linear_model import Lasso, Ridge, LinearRegression, ElasticNet \n",
        "from sklearn.tree import DecisionTreeRegressor, export_graphviz\n",
        "from sklearn.ensemble import RandomForestRegressor, GradientBoostingRegressor\n",
        "\n",
        "# Importing model selection libraries.\n",
        "from sklearn.model_selection import cross_validate\n",
        "from sklearn.model_selection import train_test_split\n",
        "from sklearn.model_selection import GridSearchCV\n",
        "from sklearn.model_selection import cross_val_score\n",
        "from sklearn.model_selection import RepeatedStratifiedKFold\n",
        "from sklearn.model_selection import RandomizedSearchCV\n",
        "\n",
        "# importing XGB regressor.\n",
        "from xgboost import XGBRegressor\n",
        "\n",
        "# Import different metrics from sci-kit libraries for model evaluation.\n",
        "from sklearn import metrics\n",
        "from sklearn.metrics import r2_score as r2\n",
        "from sklearn.metrics import mean_squared_error as mse\n",
        "from sklearn.metrics import accuracy_score\n",
        "from sklearn.metrics import mean_absolute_error\n",
        "from sklearn.metrics import log_loss\n",
        "from sklearn.metrics import roc_auc_score, confusion_matrix\n",
        "\n",
        "# Importing graphviz for visualizing decision trees.\n",
        "from sklearn import tree\n",
        "from IPython.display import SVG\n",
        "from graphviz import Source\n",
        "from IPython.display import display\n",
        " \n",
        "\n",
        "# The following lines adjust the granularity of reporting. \n",
        "pd.options.display.max_rows = 50\n",
        "pd.options.display.float_format = \"{:.2f}\".format\n",
        "\n",
        "# Importing warnings library. The warnings module handles warnings in Python.\n",
        "import warnings\n",
        "warnings.filterwarnings('ignore')"
      ],
      "metadata": {
        "id": "T-JdEthLlV8N"
      },
      "execution_count": 20,
      "outputs": []
    },
    {
      "cell_type": "markdown",
      "source": [
        "##**Loading Data**\n",
        "\n",
        "---\n",
        "\n",
        "In order to proceed, we have to bring in data into the playground. This is basically the raw data which we will filter into features so that it can be used to build the predictive model."
      ],
      "metadata": {
        "id": "ZKfhtL7Km9C6"
      }
    },
    {
      "cell_type": "code",
      "source": [
        "#here google drive is attached to colab so that files can be accessed easily\n",
        "from google.colab import drive\n",
        "drive.mount('/content/drive')"
      ],
      "metadata": {
        "colab": {
          "base_uri": "https://localhost:8080/"
        },
        "id": "lAUtWGJApD3t",
        "outputId": "b997633a-7a87-4073-c89e-f7cd6d2f01e3"
      },
      "execution_count": 21,
      "outputs": [
        {
          "output_type": "stream",
          "name": "stdout",
          "text": [
            "Drive already mounted at /content/drive; to attempt to forcibly remount, call drive.mount(\"/content/drive\", force_remount=True).\n"
          ]
        }
      ]
    },
    {
      "cell_type": "code",
      "source": [
        "# path for the ted talk data is stored in the variable dataPath which was stored \n",
        "#   in google drive as \"data_ted_talks.csv\"\n",
        "dataPath = \"/content/drive/MyDrive/almabetter/Supervised-ML-Regression/SupervisedML-Regression-Ted Talks Views Prediction/Data/data_ted_talks.csv\"\n",
        "\n",
        "# finally the variable(dataPath) is used pandas data is loaded using to generate dataframe\n",
        "tdTalks = pd.read_csv(dataPath)"
      ],
      "metadata": {
        "id": "rq9wJ3RQmkEK"
      },
      "execution_count": 22,
      "outputs": []
    },
    {
      "cell_type": "markdown",
      "source": [
        "##**Studying Data**\n",
        "\n",
        "---\n",
        "\n",
        "Basic information about data is studied using head, info, describe function."
      ],
      "metadata": {
        "id": "WqFb20Qv23jS"
      }
    },
    {
      "cell_type": "code",
      "source": [
        "#displaying data from the ted_talk_data dataframe using head function \n",
        "tdTalks.head()"
      ],
      "metadata": {
        "colab": {
          "base_uri": "https://localhost:8080/",
          "height": 0
        },
        "id": "IidIVXbC4lry",
        "outputId": "5049a75d-f483-4e43-c7b7-9b1a4302b0dc"
      },
      "execution_count": 23,
      "outputs": [
        {
          "output_type": "execute_result",
          "data": {
            "text/plain": [
              "   talk_id                            title         speaker_1  \\\n",
              "0        1      Averting the climate crisis           Al Gore   \n",
              "1       92  The best stats you've ever seen      Hans Rosling   \n",
              "2        7                 Simplicity sells       David Pogue   \n",
              "3       53              Greening the ghetto     Majora Carter   \n",
              "4       66      Do schools kill creativity?  Sir Ken Robinson   \n",
              "\n",
              "              all_speakers                                    occupations  \\\n",
              "0           {0: 'Al Gore'}                      {0: ['climate advocate']}   \n",
              "1      {0: 'Hans Rosling'}  {0: ['global health expert; data visionary']}   \n",
              "2       {0: 'David Pogue'}                  {0: ['technology columnist']}   \n",
              "3     {0: 'Majora Carter'}    {0: ['activist for environmental justice']}   \n",
              "4  {0: 'Sir Ken Robinson'}                    {0: ['author', 'educator']}   \n",
              "\n",
              "                                      about_speakers     views recorded_date  \\\n",
              "0  {0: 'Nobel Laureate Al Gore focused the world’...   3523392    2006-02-25   \n",
              "1  {0: 'In Hans Rosling’s hands, data sings. Glob...  14501685    2006-02-22   \n",
              "2  {0: 'David Pogue is the personal technology co...   1920832    2006-02-24   \n",
              "3  {0: 'Majora Carter redefined the field of envi...   2664069    2006-02-26   \n",
              "4  {0: \"Creativity expert Sir Ken Robinson challe...  65051954    2006-02-25   \n",
              "\n",
              "  published_date    event native_lang  \\\n",
              "0     2006-06-27  TED2006          en   \n",
              "1     2006-06-27  TED2006          en   \n",
              "2     2006-06-27  TED2006          en   \n",
              "3     2006-06-27  TED2006          en   \n",
              "4     2006-06-27  TED2006          en   \n",
              "\n",
              "                                      available_lang  comments  duration  \\\n",
              "0  ['ar', 'bg', 'cs', 'de', 'el', 'en', 'es', 'fa...    272.00       977   \n",
              "1  ['ar', 'az', 'bg', 'bn', 'bs', 'cs', 'da', 'de...    628.00      1190   \n",
              "2  ['ar', 'bg', 'de', 'el', 'en', 'es', 'fa', 'fr...    124.00      1286   \n",
              "3  ['ar', 'bg', 'bn', 'ca', 'cs', 'de', 'en', 'es...    219.00      1116   \n",
              "4  ['af', 'ar', 'az', 'be', 'bg', 'bn', 'ca', 'cs...   4931.00      1164   \n",
              "\n",
              "                                              topics  \\\n",
              "0  ['alternative energy', 'cars', 'climate change...   \n",
              "1  ['Africa', 'Asia', 'Google', 'demo', 'economic...   \n",
              "2  ['computers', 'entertainment', 'interface desi...   \n",
              "3  ['MacArthur grant', 'activism', 'business', 'c...   \n",
              "4  ['children', 'creativity', 'culture', 'dance',...   \n",
              "\n",
              "                                       related_talks  \\\n",
              "0  {243: 'New thinking on the climate crisis', 54...   \n",
              "1  {2056: \"Own your body's data\", 2296: 'A visual...   \n",
              "2  {1725: '10 top time-saving tech tips', 2274: '...   \n",
              "3  {1041: '3 stories of local eco-entrepreneurshi...   \n",
              "4  {865: 'Bring on the learning revolution!', 173...   \n",
              "\n",
              "                                                 url  \\\n",
              "0  https://www.ted.com/talks/al_gore_averting_the...   \n",
              "1  https://www.ted.com/talks/hans_rosling_the_bes...   \n",
              "2  https://www.ted.com/talks/david_pogue_simplici...   \n",
              "3  https://www.ted.com/talks/majora_carter_greeni...   \n",
              "4  https://www.ted.com/talks/sir_ken_robinson_do_...   \n",
              "\n",
              "                                         description  \\\n",
              "0  With the same humor and humanity he exuded in ...   \n",
              "1  You've never seen data presented like this. Wi...   \n",
              "2  New York Times columnist David Pogue takes aim...   \n",
              "3  In an emotionally charged talk, MacArthur-winn...   \n",
              "4  Sir Ken Robinson makes an entertaining and pro...   \n",
              "\n",
              "                                          transcript  \n",
              "0  Thank you so much, Chris. And it's truly a gre...  \n",
              "1  About 10 years ago, I took on the task to teac...  \n",
              "2  (Music: \"The Sound of Silence,\" Simon & Garfun...  \n",
              "3  If you're here today — and I'm very happy that...  \n",
              "4  Good morning. How are you? (Audience) Good. It...  "
            ],
            "text/html": [
              "\n",
              "  <div id=\"df-ef68913b-684f-4c50-a42a-1148ad2cad73\">\n",
              "    <div class=\"colab-df-container\">\n",
              "      <div>\n",
              "<style scoped>\n",
              "    .dataframe tbody tr th:only-of-type {\n",
              "        vertical-align: middle;\n",
              "    }\n",
              "\n",
              "    .dataframe tbody tr th {\n",
              "        vertical-align: top;\n",
              "    }\n",
              "\n",
              "    .dataframe thead th {\n",
              "        text-align: right;\n",
              "    }\n",
              "</style>\n",
              "<table border=\"1\" class=\"dataframe\">\n",
              "  <thead>\n",
              "    <tr style=\"text-align: right;\">\n",
              "      <th></th>\n",
              "      <th>talk_id</th>\n",
              "      <th>title</th>\n",
              "      <th>speaker_1</th>\n",
              "      <th>all_speakers</th>\n",
              "      <th>occupations</th>\n",
              "      <th>about_speakers</th>\n",
              "      <th>views</th>\n",
              "      <th>recorded_date</th>\n",
              "      <th>published_date</th>\n",
              "      <th>event</th>\n",
              "      <th>native_lang</th>\n",
              "      <th>available_lang</th>\n",
              "      <th>comments</th>\n",
              "      <th>duration</th>\n",
              "      <th>topics</th>\n",
              "      <th>related_talks</th>\n",
              "      <th>url</th>\n",
              "      <th>description</th>\n",
              "      <th>transcript</th>\n",
              "    </tr>\n",
              "  </thead>\n",
              "  <tbody>\n",
              "    <tr>\n",
              "      <th>0</th>\n",
              "      <td>1</td>\n",
              "      <td>Averting the climate crisis</td>\n",
              "      <td>Al Gore</td>\n",
              "      <td>{0: 'Al Gore'}</td>\n",
              "      <td>{0: ['climate advocate']}</td>\n",
              "      <td>{0: 'Nobel Laureate Al Gore focused the world’...</td>\n",
              "      <td>3523392</td>\n",
              "      <td>2006-02-25</td>\n",
              "      <td>2006-06-27</td>\n",
              "      <td>TED2006</td>\n",
              "      <td>en</td>\n",
              "      <td>['ar', 'bg', 'cs', 'de', 'el', 'en', 'es', 'fa...</td>\n",
              "      <td>272.00</td>\n",
              "      <td>977</td>\n",
              "      <td>['alternative energy', 'cars', 'climate change...</td>\n",
              "      <td>{243: 'New thinking on the climate crisis', 54...</td>\n",
              "      <td>https://www.ted.com/talks/al_gore_averting_the...</td>\n",
              "      <td>With the same humor and humanity he exuded in ...</td>\n",
              "      <td>Thank you so much, Chris. And it's truly a gre...</td>\n",
              "    </tr>\n",
              "    <tr>\n",
              "      <th>1</th>\n",
              "      <td>92</td>\n",
              "      <td>The best stats you've ever seen</td>\n",
              "      <td>Hans Rosling</td>\n",
              "      <td>{0: 'Hans Rosling'}</td>\n",
              "      <td>{0: ['global health expert; data visionary']}</td>\n",
              "      <td>{0: 'In Hans Rosling’s hands, data sings. Glob...</td>\n",
              "      <td>14501685</td>\n",
              "      <td>2006-02-22</td>\n",
              "      <td>2006-06-27</td>\n",
              "      <td>TED2006</td>\n",
              "      <td>en</td>\n",
              "      <td>['ar', 'az', 'bg', 'bn', 'bs', 'cs', 'da', 'de...</td>\n",
              "      <td>628.00</td>\n",
              "      <td>1190</td>\n",
              "      <td>['Africa', 'Asia', 'Google', 'demo', 'economic...</td>\n",
              "      <td>{2056: \"Own your body's data\", 2296: 'A visual...</td>\n",
              "      <td>https://www.ted.com/talks/hans_rosling_the_bes...</td>\n",
              "      <td>You've never seen data presented like this. Wi...</td>\n",
              "      <td>About 10 years ago, I took on the task to teac...</td>\n",
              "    </tr>\n",
              "    <tr>\n",
              "      <th>2</th>\n",
              "      <td>7</td>\n",
              "      <td>Simplicity sells</td>\n",
              "      <td>David Pogue</td>\n",
              "      <td>{0: 'David Pogue'}</td>\n",
              "      <td>{0: ['technology columnist']}</td>\n",
              "      <td>{0: 'David Pogue is the personal technology co...</td>\n",
              "      <td>1920832</td>\n",
              "      <td>2006-02-24</td>\n",
              "      <td>2006-06-27</td>\n",
              "      <td>TED2006</td>\n",
              "      <td>en</td>\n",
              "      <td>['ar', 'bg', 'de', 'el', 'en', 'es', 'fa', 'fr...</td>\n",
              "      <td>124.00</td>\n",
              "      <td>1286</td>\n",
              "      <td>['computers', 'entertainment', 'interface desi...</td>\n",
              "      <td>{1725: '10 top time-saving tech tips', 2274: '...</td>\n",
              "      <td>https://www.ted.com/talks/david_pogue_simplici...</td>\n",
              "      <td>New York Times columnist David Pogue takes aim...</td>\n",
              "      <td>(Music: \"The Sound of Silence,\" Simon &amp; Garfun...</td>\n",
              "    </tr>\n",
              "    <tr>\n",
              "      <th>3</th>\n",
              "      <td>53</td>\n",
              "      <td>Greening the ghetto</td>\n",
              "      <td>Majora Carter</td>\n",
              "      <td>{0: 'Majora Carter'}</td>\n",
              "      <td>{0: ['activist for environmental justice']}</td>\n",
              "      <td>{0: 'Majora Carter redefined the field of envi...</td>\n",
              "      <td>2664069</td>\n",
              "      <td>2006-02-26</td>\n",
              "      <td>2006-06-27</td>\n",
              "      <td>TED2006</td>\n",
              "      <td>en</td>\n",
              "      <td>['ar', 'bg', 'bn', 'ca', 'cs', 'de', 'en', 'es...</td>\n",
              "      <td>219.00</td>\n",
              "      <td>1116</td>\n",
              "      <td>['MacArthur grant', 'activism', 'business', 'c...</td>\n",
              "      <td>{1041: '3 stories of local eco-entrepreneurshi...</td>\n",
              "      <td>https://www.ted.com/talks/majora_carter_greeni...</td>\n",
              "      <td>In an emotionally charged talk, MacArthur-winn...</td>\n",
              "      <td>If you're here today — and I'm very happy that...</td>\n",
              "    </tr>\n",
              "    <tr>\n",
              "      <th>4</th>\n",
              "      <td>66</td>\n",
              "      <td>Do schools kill creativity?</td>\n",
              "      <td>Sir Ken Robinson</td>\n",
              "      <td>{0: 'Sir Ken Robinson'}</td>\n",
              "      <td>{0: ['author', 'educator']}</td>\n",
              "      <td>{0: \"Creativity expert Sir Ken Robinson challe...</td>\n",
              "      <td>65051954</td>\n",
              "      <td>2006-02-25</td>\n",
              "      <td>2006-06-27</td>\n",
              "      <td>TED2006</td>\n",
              "      <td>en</td>\n",
              "      <td>['af', 'ar', 'az', 'be', 'bg', 'bn', 'ca', 'cs...</td>\n",
              "      <td>4931.00</td>\n",
              "      <td>1164</td>\n",
              "      <td>['children', 'creativity', 'culture', 'dance',...</td>\n",
              "      <td>{865: 'Bring on the learning revolution!', 173...</td>\n",
              "      <td>https://www.ted.com/talks/sir_ken_robinson_do_...</td>\n",
              "      <td>Sir Ken Robinson makes an entertaining and pro...</td>\n",
              "      <td>Good morning. How are you? (Audience) Good. It...</td>\n",
              "    </tr>\n",
              "  </tbody>\n",
              "</table>\n",
              "</div>\n",
              "      <button class=\"colab-df-convert\" onclick=\"convertToInteractive('df-ef68913b-684f-4c50-a42a-1148ad2cad73')\"\n",
              "              title=\"Convert this dataframe to an interactive table.\"\n",
              "              style=\"display:none;\">\n",
              "        \n",
              "  <svg xmlns=\"http://www.w3.org/2000/svg\" height=\"24px\"viewBox=\"0 0 24 24\"\n",
              "       width=\"24px\">\n",
              "    <path d=\"M0 0h24v24H0V0z\" fill=\"none\"/>\n",
              "    <path d=\"M18.56 5.44l.94 2.06.94-2.06 2.06-.94-2.06-.94-.94-2.06-.94 2.06-2.06.94zm-11 1L8.5 8.5l.94-2.06 2.06-.94-2.06-.94L8.5 2.5l-.94 2.06-2.06.94zm10 10l.94 2.06.94-2.06 2.06-.94-2.06-.94-.94-2.06-.94 2.06-2.06.94z\"/><path d=\"M17.41 7.96l-1.37-1.37c-.4-.4-.92-.59-1.43-.59-.52 0-1.04.2-1.43.59L10.3 9.45l-7.72 7.72c-.78.78-.78 2.05 0 2.83L4 21.41c.39.39.9.59 1.41.59.51 0 1.02-.2 1.41-.59l7.78-7.78 2.81-2.81c.8-.78.8-2.07 0-2.86zM5.41 20L4 18.59l7.72-7.72 1.47 1.35L5.41 20z\"/>\n",
              "  </svg>\n",
              "      </button>\n",
              "      \n",
              "  <style>\n",
              "    .colab-df-container {\n",
              "      display:flex;\n",
              "      flex-wrap:wrap;\n",
              "      gap: 12px;\n",
              "    }\n",
              "\n",
              "    .colab-df-convert {\n",
              "      background-color: #E8F0FE;\n",
              "      border: none;\n",
              "      border-radius: 50%;\n",
              "      cursor: pointer;\n",
              "      display: none;\n",
              "      fill: #1967D2;\n",
              "      height: 32px;\n",
              "      padding: 0 0 0 0;\n",
              "      width: 32px;\n",
              "    }\n",
              "\n",
              "    .colab-df-convert:hover {\n",
              "      background-color: #E2EBFA;\n",
              "      box-shadow: 0px 1px 2px rgba(60, 64, 67, 0.3), 0px 1px 3px 1px rgba(60, 64, 67, 0.15);\n",
              "      fill: #174EA6;\n",
              "    }\n",
              "\n",
              "    [theme=dark] .colab-df-convert {\n",
              "      background-color: #3B4455;\n",
              "      fill: #D2E3FC;\n",
              "    }\n",
              "\n",
              "    [theme=dark] .colab-df-convert:hover {\n",
              "      background-color: #434B5C;\n",
              "      box-shadow: 0px 1px 3px 1px rgba(0, 0, 0, 0.15);\n",
              "      filter: drop-shadow(0px 1px 2px rgba(0, 0, 0, 0.3));\n",
              "      fill: #FFFFFF;\n",
              "    }\n",
              "  </style>\n",
              "\n",
              "      <script>\n",
              "        const buttonEl =\n",
              "          document.querySelector('#df-ef68913b-684f-4c50-a42a-1148ad2cad73 button.colab-df-convert');\n",
              "        buttonEl.style.display =\n",
              "          google.colab.kernel.accessAllowed ? 'block' : 'none';\n",
              "\n",
              "        async function convertToInteractive(key) {\n",
              "          const element = document.querySelector('#df-ef68913b-684f-4c50-a42a-1148ad2cad73');\n",
              "          const dataTable =\n",
              "            await google.colab.kernel.invokeFunction('convertToInteractive',\n",
              "                                                     [key], {});\n",
              "          if (!dataTable) return;\n",
              "\n",
              "          const docLinkHtml = 'Like what you see? Visit the ' +\n",
              "            '<a target=\"_blank\" href=https://colab.research.google.com/notebooks/data_table.ipynb>data table notebook</a>'\n",
              "            + ' to learn more about interactive tables.';\n",
              "          element.innerHTML = '';\n",
              "          dataTable['output_type'] = 'display_data';\n",
              "          await google.colab.output.renderOutput(dataTable, element);\n",
              "          const docLink = document.createElement('div');\n",
              "          docLink.innerHTML = docLinkHtml;\n",
              "          element.appendChild(docLink);\n",
              "        }\n",
              "      </script>\n",
              "    </div>\n",
              "  </div>\n",
              "  "
            ]
          },
          "metadata": {},
          "execution_count": 23
        }
      ]
    },
    {
      "cell_type": "markdown",
      "source": [
        "### **Different features and their description**\n",
        "   \n",
        "> A feature is an input variable in simple linear regression. A simple machine learning project might use a single feature, while a more sophisticated machine learning \n",
        "project could use millions of features.\n",
        "\n",
        "> **Describing DataSet**\n",
        "\n",
        "* talk_id: Talk identification number provided by TED (int)\n",
        "* title: Title in which speaker will be speaking (string)\n",
        "* speaker_1: Who is the first speaker in TED's speaker list (string)\n",
        "* all_speakers: Total speakers in the session (dictionary)\n",
        "* occupations: Profession of the speakers (dictionary)\n",
        "* about_speakers: Brief about each speaker (dictionary)\n",
        "* recorded_date: When the session was recorded (string)\n",
        "* published_date: When the session was published to TED.com (string)\n",
        "* event: Event or medium in which the talk was given (string)\n",
        "* native_lang: The language the speaker has given the talk or session (string)\n",
        "* available_lang: All languages in which the session was available (list)\n",
        "* comments: Count of comments (int)\n",
        "* duration: Duration in seconds (int)\n",
        "* topics: Related tags or topics for the talk (list)\n",
        "* related_talks: What are other talks related to the session (key= 'talk_id’ , value='title’) (dictionary)\n",
        "* url: URL/Link of the talk, how it can be accessed (string)\n",
        "* description: Nature of the session, why it was held, explaining the objective of the session (string)\n",
        "* transcript: Full content of the video in the textual format (string)"
      ],
      "metadata": {
        "id": "nAxX_A_x5fZ1"
      }
    },
    {
      "cell_type": "code",
      "source": [
        "#describe the dataset\n",
        "#tdTalks.describe(include='all')\n",
        "tdTalks.describe()"
      ],
      "metadata": {
        "colab": {
          "base_uri": "https://localhost:8080/",
          "height": 0
        },
        "id": "zT4Of2OF_Ryp",
        "outputId": "15205a1f-2c01-47c5-cca7-07b113df5634"
      },
      "execution_count": 24,
      "outputs": [
        {
          "output_type": "execute_result",
          "data": {
            "text/plain": [
              "       talk_id       views  comments  duration\n",
              "count  4005.00     4005.00   3350.00   4005.00\n",
              "mean  12432.54  2148005.57    162.00    724.01\n",
              "std   17447.58  3451225.52    268.84    361.78\n",
              "min       1.00        0.00      0.00     60.00\n",
              "25%    1252.00   882069.00     38.00    393.00\n",
              "50%    2333.00  1375508.00     89.00    738.00\n",
              "75%   23777.00  2133110.00    188.00    974.00\n",
              "max   62794.00 65051954.00   6449.00   3922.00"
            ],
            "text/html": [
              "\n",
              "  <div id=\"df-db8c5ded-f8f4-4abf-9f66-946c59f4a517\">\n",
              "    <div class=\"colab-df-container\">\n",
              "      <div>\n",
              "<style scoped>\n",
              "    .dataframe tbody tr th:only-of-type {\n",
              "        vertical-align: middle;\n",
              "    }\n",
              "\n",
              "    .dataframe tbody tr th {\n",
              "        vertical-align: top;\n",
              "    }\n",
              "\n",
              "    .dataframe thead th {\n",
              "        text-align: right;\n",
              "    }\n",
              "</style>\n",
              "<table border=\"1\" class=\"dataframe\">\n",
              "  <thead>\n",
              "    <tr style=\"text-align: right;\">\n",
              "      <th></th>\n",
              "      <th>talk_id</th>\n",
              "      <th>views</th>\n",
              "      <th>comments</th>\n",
              "      <th>duration</th>\n",
              "    </tr>\n",
              "  </thead>\n",
              "  <tbody>\n",
              "    <tr>\n",
              "      <th>count</th>\n",
              "      <td>4005.00</td>\n",
              "      <td>4005.00</td>\n",
              "      <td>3350.00</td>\n",
              "      <td>4005.00</td>\n",
              "    </tr>\n",
              "    <tr>\n",
              "      <th>mean</th>\n",
              "      <td>12432.54</td>\n",
              "      <td>2148005.57</td>\n",
              "      <td>162.00</td>\n",
              "      <td>724.01</td>\n",
              "    </tr>\n",
              "    <tr>\n",
              "      <th>std</th>\n",
              "      <td>17447.58</td>\n",
              "      <td>3451225.52</td>\n",
              "      <td>268.84</td>\n",
              "      <td>361.78</td>\n",
              "    </tr>\n",
              "    <tr>\n",
              "      <th>min</th>\n",
              "      <td>1.00</td>\n",
              "      <td>0.00</td>\n",
              "      <td>0.00</td>\n",
              "      <td>60.00</td>\n",
              "    </tr>\n",
              "    <tr>\n",
              "      <th>25%</th>\n",
              "      <td>1252.00</td>\n",
              "      <td>882069.00</td>\n",
              "      <td>38.00</td>\n",
              "      <td>393.00</td>\n",
              "    </tr>\n",
              "    <tr>\n",
              "      <th>50%</th>\n",
              "      <td>2333.00</td>\n",
              "      <td>1375508.00</td>\n",
              "      <td>89.00</td>\n",
              "      <td>738.00</td>\n",
              "    </tr>\n",
              "    <tr>\n",
              "      <th>75%</th>\n",
              "      <td>23777.00</td>\n",
              "      <td>2133110.00</td>\n",
              "      <td>188.00</td>\n",
              "      <td>974.00</td>\n",
              "    </tr>\n",
              "    <tr>\n",
              "      <th>max</th>\n",
              "      <td>62794.00</td>\n",
              "      <td>65051954.00</td>\n",
              "      <td>6449.00</td>\n",
              "      <td>3922.00</td>\n",
              "    </tr>\n",
              "  </tbody>\n",
              "</table>\n",
              "</div>\n",
              "      <button class=\"colab-df-convert\" onclick=\"convertToInteractive('df-db8c5ded-f8f4-4abf-9f66-946c59f4a517')\"\n",
              "              title=\"Convert this dataframe to an interactive table.\"\n",
              "              style=\"display:none;\">\n",
              "        \n",
              "  <svg xmlns=\"http://www.w3.org/2000/svg\" height=\"24px\"viewBox=\"0 0 24 24\"\n",
              "       width=\"24px\">\n",
              "    <path d=\"M0 0h24v24H0V0z\" fill=\"none\"/>\n",
              "    <path d=\"M18.56 5.44l.94 2.06.94-2.06 2.06-.94-2.06-.94-.94-2.06-.94 2.06-2.06.94zm-11 1L8.5 8.5l.94-2.06 2.06-.94-2.06-.94L8.5 2.5l-.94 2.06-2.06.94zm10 10l.94 2.06.94-2.06 2.06-.94-2.06-.94-.94-2.06-.94 2.06-2.06.94z\"/><path d=\"M17.41 7.96l-1.37-1.37c-.4-.4-.92-.59-1.43-.59-.52 0-1.04.2-1.43.59L10.3 9.45l-7.72 7.72c-.78.78-.78 2.05 0 2.83L4 21.41c.39.39.9.59 1.41.59.51 0 1.02-.2 1.41-.59l7.78-7.78 2.81-2.81c.8-.78.8-2.07 0-2.86zM5.41 20L4 18.59l7.72-7.72 1.47 1.35L5.41 20z\"/>\n",
              "  </svg>\n",
              "      </button>\n",
              "      \n",
              "  <style>\n",
              "    .colab-df-container {\n",
              "      display:flex;\n",
              "      flex-wrap:wrap;\n",
              "      gap: 12px;\n",
              "    }\n",
              "\n",
              "    .colab-df-convert {\n",
              "      background-color: #E8F0FE;\n",
              "      border: none;\n",
              "      border-radius: 50%;\n",
              "      cursor: pointer;\n",
              "      display: none;\n",
              "      fill: #1967D2;\n",
              "      height: 32px;\n",
              "      padding: 0 0 0 0;\n",
              "      width: 32px;\n",
              "    }\n",
              "\n",
              "    .colab-df-convert:hover {\n",
              "      background-color: #E2EBFA;\n",
              "      box-shadow: 0px 1px 2px rgba(60, 64, 67, 0.3), 0px 1px 3px 1px rgba(60, 64, 67, 0.15);\n",
              "      fill: #174EA6;\n",
              "    }\n",
              "\n",
              "    [theme=dark] .colab-df-convert {\n",
              "      background-color: #3B4455;\n",
              "      fill: #D2E3FC;\n",
              "    }\n",
              "\n",
              "    [theme=dark] .colab-df-convert:hover {\n",
              "      background-color: #434B5C;\n",
              "      box-shadow: 0px 1px 3px 1px rgba(0, 0, 0, 0.15);\n",
              "      filter: drop-shadow(0px 1px 2px rgba(0, 0, 0, 0.3));\n",
              "      fill: #FFFFFF;\n",
              "    }\n",
              "  </style>\n",
              "\n",
              "      <script>\n",
              "        const buttonEl =\n",
              "          document.querySelector('#df-db8c5ded-f8f4-4abf-9f66-946c59f4a517 button.colab-df-convert');\n",
              "        buttonEl.style.display =\n",
              "          google.colab.kernel.accessAllowed ? 'block' : 'none';\n",
              "\n",
              "        async function convertToInteractive(key) {\n",
              "          const element = document.querySelector('#df-db8c5ded-f8f4-4abf-9f66-946c59f4a517');\n",
              "          const dataTable =\n",
              "            await google.colab.kernel.invokeFunction('convertToInteractive',\n",
              "                                                     [key], {});\n",
              "          if (!dataTable) return;\n",
              "\n",
              "          const docLinkHtml = 'Like what you see? Visit the ' +\n",
              "            '<a target=\"_blank\" href=https://colab.research.google.com/notebooks/data_table.ipynb>data table notebook</a>'\n",
              "            + ' to learn more about interactive tables.';\n",
              "          element.innerHTML = '';\n",
              "          dataTable['output_type'] = 'display_data';\n",
              "          await google.colab.output.renderOutput(dataTable, element);\n",
              "          const docLink = document.createElement('div');\n",
              "          docLink.innerHTML = docLinkHtml;\n",
              "          element.appendChild(docLink);\n",
              "        }\n",
              "      </script>\n",
              "    </div>\n",
              "  </div>\n",
              "  "
            ]
          },
          "metadata": {},
          "execution_count": 24
        }
      ]
    },
    {
      "cell_type": "markdown",
      "source": [
        "*   For mixed data types provided via a DataFrame, the default is to return only an analysis of numeric columns. If the dataframe consists only of object and categorical data without any numeric columns, the default is to return an analysis of both the object and categorical columns. If include='all' is provided as an option, the result will include a union of attributes of each type."
      ],
      "metadata": {
        "id": "zlt6B0CmBZyK"
      }
    },
    {
      "cell_type": "code",
      "source": [
        "#@title Printing information about a DataFrame including the index dtype and columns, non-null values and memory usage\n",
        "tdTalks.info()"
      ],
      "metadata": {
        "colab": {
          "base_uri": "https://localhost:8080/"
        },
        "cellView": "form",
        "id": "U3N7HQHx_mm7",
        "outputId": "9a7516f5-d9ce-45ae-9646-527591209ba7"
      },
      "execution_count": 25,
      "outputs": [
        {
          "output_type": "stream",
          "name": "stdout",
          "text": [
            "<class 'pandas.core.frame.DataFrame'>\n",
            "RangeIndex: 4005 entries, 0 to 4004\n",
            "Data columns (total 19 columns):\n",
            " #   Column          Non-Null Count  Dtype  \n",
            "---  ------          --------------  -----  \n",
            " 0   talk_id         4005 non-null   int64  \n",
            " 1   title           4005 non-null   object \n",
            " 2   speaker_1       4005 non-null   object \n",
            " 3   all_speakers    4001 non-null   object \n",
            " 4   occupations     3483 non-null   object \n",
            " 5   about_speakers  3502 non-null   object \n",
            " 6   views           4005 non-null   int64  \n",
            " 7   recorded_date   4004 non-null   object \n",
            " 8   published_date  4005 non-null   object \n",
            " 9   event           4005 non-null   object \n",
            " 10  native_lang     4005 non-null   object \n",
            " 11  available_lang  4005 non-null   object \n",
            " 12  comments        3350 non-null   float64\n",
            " 13  duration        4005 non-null   int64  \n",
            " 14  topics          4005 non-null   object \n",
            " 15  related_talks   4005 non-null   object \n",
            " 16  url             4005 non-null   object \n",
            " 17  description     4005 non-null   object \n",
            " 18  transcript      4005 non-null   object \n",
            "dtypes: float64(1), int64(3), object(15)\n",
            "memory usage: 594.6+ KB\n"
          ]
        }
      ]
    },
    {
      "cell_type": "markdown",
      "source": [
        "\n",
        "> The dataset has total number of 4005 values with 19 different features. Therefore we can see that some of the feature like occupations, about_speaker, recorded_date and comments don't have 4005 entries and therefore has some null values. Apart from that we can see that recorded_date and published_date has data type of object which should be further treated to have correct data type.  \n",
        "\n",
        "\n"
      ],
      "metadata": {
        "id": "plVgkcbzBnJu"
      }
    },
    {
      "cell_type": "code",
      "source": [
        "#@title printing shape of the dataset\n",
        "print(f'Shape : {tdTalks.shape}' )"
      ],
      "metadata": {
        "colab": {
          "base_uri": "https://localhost:8080/"
        },
        "cellView": "form",
        "id": "Ldy_alFIC1KG",
        "outputId": "aa918b0a-939d-4784-bdf0-b389bed969dd"
      },
      "execution_count": 26,
      "outputs": [
        {
          "output_type": "stream",
          "name": "stdout",
          "text": [
            "Shape : (4005, 19)\n"
          ]
        }
      ]
    },
    {
      "cell_type": "code",
      "source": [
        "tdTalks['views'].value_counts()"
      ],
      "metadata": {
        "colab": {
          "base_uri": "https://localhost:8080/"
        },
        "id": "xNKI2UE7T5ax",
        "outputId": "7ab04943-30c8-4fa4-f4d3-f67d576232ec"
      },
      "execution_count": 27,
      "outputs": [
        {
          "output_type": "execute_result",
          "data": {
            "text/plain": [
              "0          6\n",
              "1454261    2\n",
              "1446787    2\n",
              "1968363    2\n",
              "806149     2\n",
              "          ..\n",
              "1152255    1\n",
              "2625338    1\n",
              "727048     1\n",
              "1704167    1\n",
              "56582      1\n",
              "Name: views, Length: 3996, dtype: int64"
            ]
          },
          "metadata": {},
          "execution_count": 27
        }
      ]
    },
    {
      "cell_type": "code",
      "source": [
        "tdTalks['views'].isnull().sum()"
      ],
      "metadata": {
        "colab": {
          "base_uri": "https://localhost:8080/"
        },
        "id": "VN5N81-KU3KO",
        "outputId": "f49c19cc-6bd6-4aa8-8c7f-0d220117f6ba"
      },
      "execution_count": 28,
      "outputs": [
        {
          "output_type": "execute_result",
          "data": {
            "text/plain": [
              "0"
            ]
          },
          "metadata": {},
          "execution_count": 28
        }
      ]
    },
    {
      "cell_type": "markdown",
      "source": [
        "## <b>Exploratory Data Analysis</b>\n",
        "\n",
        "---\n",
        "\n",
        "Primary goal was to explore data, to identify relationship between different features to answer the question to achieve the objective of the project using **univariate analysis**, **bivariate analysis** and **multivariate analysis**. \n",
        "\n",
        "> What variables will actually drive views for the TED talks?"
      ],
      "metadata": {
        "id": "4VfB8BQvPS-S"
      }
    },
    {
      "cell_type": "markdown",
      "source": [
        "### **Treating NaN or Null Values**"
      ],
      "metadata": {
        "id": "O_PZsK0mhc6d"
      }
    },
    {
      "cell_type": "code",
      "source": [
        "# Total count of NaN or Null Values in each column\n",
        "tdTalks.isnull().sum()"
      ],
      "metadata": {
        "colab": {
          "base_uri": "https://localhost:8080/"
        },
        "id": "_NWZXYRLv9oP",
        "outputId": "93fa36fa-e36f-4f4d-c041-9de53d887dbf"
      },
      "execution_count": 39,
      "outputs": [
        {
          "output_type": "execute_result",
          "data": {
            "text/plain": [
              "talk_id             0\n",
              "title               0\n",
              "speaker_1           0\n",
              "all_speakers        4\n",
              "occupations       522\n",
              "about_speakers    503\n",
              "views               0\n",
              "recorded_date       1\n",
              "published_date      0\n",
              "event               0\n",
              "native_lang         0\n",
              "available_lang      0\n",
              "comments          655\n",
              "duration            0\n",
              "topics              0\n",
              "related_talks       0\n",
              "url                 0\n",
              "description         0\n",
              "transcript          0\n",
              "dtype: int64"
            ]
          },
          "metadata": {},
          "execution_count": 39
        }
      ]
    },
    {
      "cell_type": "code",
      "source": [
        "# Missing Value Count Function\n",
        "def showMissing():\n",
        "    missing = tdTalks.columns[tdTalks.isnull().any()].tolist()\n",
        "    return missing\n",
        "\n",
        "missingVal = pd.DataFrame()\n",
        "missingVal['Missing Data Count'] = tdTalks[showMissing()].isnull().sum().sort_values(ascending = False)\n",
        "missingVal['Missing Data Percentage'] = tdTalks[showMissing()].isnull().sum().sort_values(ascending = False)/len(tdTalks)*100\n",
        "\n",
        "print(missingVal)"
      ],
      "metadata": {
        "colab": {
          "base_uri": "https://localhost:8080/"
        },
        "id": "8pXJSVOz5qUQ",
        "outputId": "8ba4a269-dfcd-45b1-94d7-43eea855e39a"
      },
      "execution_count": 40,
      "outputs": [
        {
          "output_type": "stream",
          "name": "stdout",
          "text": [
            "                Missing Data Count  Missing Data Percentage\n",
            "comments                       655                    16.35\n",
            "occupations                    522                    13.03\n",
            "about_speakers                 503                    12.56\n",
            "all_speakers                     4                     0.10\n",
            "recorded_date                    1                     0.02\n"
          ]
        }
      ]
    },
    {
      "cell_type": "markdown",
      "source": [
        "*   From the above result, it is clear that features like ***occupations***, ***about_speakers***  and ***comments*** have most number of null or NaN or missing values and features like *all_speaker* and *recorded_date* has very few missing value. So to obtain a robust model these values should be treated. Since **comments** is the total count of comment in a particular talk, it will be replaced with **zero**. Features like ***occupations***, ***about_speakers*** and ***all speakers*** are replaced with word other. Lastly, as ***recorded_date*** is a date and it can not be zero and there is only one missing value, it's better to remove it too. Before proceeding further, repetion of value should also be checked. "
      ],
      "metadata": {
        "id": "FY-HEu22CoE-"
      }
    },
    {
      "cell_type": "code",
      "source": [
        "#checking duplicate value\n",
        "tdTalks.duplicated().value_counts()"
      ],
      "metadata": {
        "colab": {
          "base_uri": "https://localhost:8080/"
        },
        "id": "en3ngFAlHpIB",
        "outputId": "33076712-bcbe-4c1e-9097-2e5688ae0545"
      },
      "execution_count": 41,
      "outputs": [
        {
          "output_type": "execute_result",
          "data": {
            "text/plain": [
              "False    4005\n",
              "dtype: int64"
            ]
          },
          "metadata": {},
          "execution_count": 41
        }
      ]
    },
    {
      "cell_type": "markdown",
      "source": [
        "* **Dataset has 4005 unique value and there is no repetition.**"
      ],
      "metadata": {
        "id": "f6GNcLPPoDiB"
      }
    },
    {
      "cell_type": "code",
      "source": [
        "# creating duplicate of the data to preserve original\n",
        "td = tdTalks.copy()\n"
      ],
      "metadata": {
        "id": "rCusqS3on7wm"
      },
      "execution_count": 42,
      "outputs": []
    },
    {
      "cell_type": "code",
      "source": [
        "# Removing NULL values from 'all_speakers' , 'occupations' , 'about_speakers' , 'recorded_date' , 'comments' \n",
        "\n",
        "df= td.copy()\n",
        "trial = df.copy()\n",
        "\n",
        "#df[\"all_speakers\"].fillna(value = str({0:\"other\"}), axis = 0, inplace=True)\n",
        "df['all_speakers'].fillna(\"{0:['NaN']}\", inplace=True, axis=0)\n",
        "df['all_speakers']= df['all_speakers'].apply(ast.literal_eval)\n",
        "df['occupations'].fillna(\"{0:['NaN']}\",inplace=True,axis=0)\n",
        "df['occupations']= df['occupations'].apply(ast.literal_eval)\n",
        "df['about_speakers'].fillna(\"{0:['NaN']}\",inplace=True,axis=0)\n",
        "df['about_speakers']= df['about_speakers'].apply(ast.literal_eval)\n",
        "\n",
        "# #df = td.dropna(subset=['all_speakers' , 'occupations' , 'about_speakers' , 'recorded_date' ])\n",
        "df['comments'].fillna(0, inplace = True)\n"
      ],
      "metadata": {
        "id": "Yi6L5dX-pkEx"
      },
      "execution_count": 43,
      "outputs": []
    },
    {
      "cell_type": "code",
      "source": [
        "# final check for null count\n",
        "df.isnull().sum()"
      ],
      "metadata": {
        "colab": {
          "base_uri": "https://localhost:8080/"
        },
        "id": "ED0jZKaBqAPV",
        "outputId": "752c537a-3a56-4377-abe0-76a89465c0c9"
      },
      "execution_count": 44,
      "outputs": [
        {
          "output_type": "execute_result",
          "data": {
            "text/plain": [
              "talk_id           0\n",
              "title             0\n",
              "speaker_1         0\n",
              "all_speakers      0\n",
              "occupations       0\n",
              "about_speakers    0\n",
              "views             0\n",
              "recorded_date     1\n",
              "published_date    0\n",
              "event             0\n",
              "native_lang       0\n",
              "available_lang    0\n",
              "comments          0\n",
              "duration          0\n",
              "topics            0\n",
              "related_talks     0\n",
              "url               0\n",
              "description       0\n",
              "transcript        0\n",
              "dtype: int64"
            ]
          },
          "metadata": {},
          "execution_count": 44
        }
      ]
    },
    {
      "cell_type": "markdown",
      "source": [
        "* **Above result shows that all the null values has been removed.**\n",
        "\n",
        "---\n",
        "\n"
      ],
      "metadata": {
        "id": "KJR9fqF6r36_"
      }
    },
    {
      "cell_type": "markdown",
      "source": [
        "**Changing Date data type**"
      ],
      "metadata": {
        "id": "NpF708sEmnBy"
      }
    },
    {
      "cell_type": "code",
      "source": [
        "#changing date data type since it has object dtype\n",
        "df['recorded_date'] = pd.to_datetime(df['recorded_date'], format = '%Y-%m-%d')\n",
        "df['published_date'] = pd.to_datetime(df['published_date'], format = '%Y-%m-%d')\n",
        "print(f'dtype => recorded_date : ', df['recorded_date'].dtype)\n",
        "print(f'dtype => published_date : ', df['published_date'].dtype)"
      ],
      "metadata": {
        "id": "eaiaaJ5WmESC",
        "colab": {
          "base_uri": "https://localhost:8080/"
        },
        "outputId": "a8e768ae-f95d-4853-d5b1-f34aa31ea254"
      },
      "execution_count": 45,
      "outputs": [
        {
          "output_type": "stream",
          "name": "stdout",
          "text": [
            "dtype => recorded_date :  datetime64[ns]\n",
            "dtype => published_date :  datetime64[ns]\n"
          ]
        }
      ]
    },
    {
      "cell_type": "markdown",
      "source": [
        "### **VISUALIZATION**\n",
        "\n",
        "---\n",
        "\n",
        "Different form of charts are used to visualize data with respect to views (target value), to know how it can be related to other features. Visualization is carried out using **seaborn** and **matplotlib** library."
      ],
      "metadata": {
        "id": "4U4-bnyotm1a"
      }
    },
    {
      "cell_type": "markdown",
      "source": [
        "#### **Univariate analysis**\n",
        "> * Analysis using one variable.\n",
        "      * Plotting all those numeric values to see how it affects."
      ],
      "metadata": {
        "id": "C-FQYZspt70O"
      }
    },
    {
      "cell_type": "markdown",
      "source": [
        "##### Views"
      ],
      "metadata": {
        "id": "ufPZ7_k09vkM"
      }
    },
    {
      "cell_type": "code",
      "source": [
        "#code to print density plot for views\n",
        "plt.figure(figsize=(12,5))\n",
        "sns.distplot(df['views'])\n",
        "plt.title(\"Density plot for Views\")\n",
        "plt.ylabel(\"Distribution\");\n",
        "plt.xlabel(\"Views\");"
      ],
      "metadata": {
        "colab": {
          "base_uri": "https://localhost:8080/",
          "height": 0
        },
        "id": "SQowqvjwFFKM",
        "outputId": "440b3a1c-ff07-4bc2-b8d9-50fd82707792"
      },
      "execution_count": 46,
      "outputs": [
        {
          "output_type": "display_data",
          "data": {
            "text/plain": [
              "<Figure size 864x360 with 1 Axes>"
            ],
            "image/png": "[encoded data removed]"
          },
          "metadata": {}
        }
      ]
    },
    {
      "cell_type": "markdown",
      "source": [
        "* **Above graph shows <u>Views</u> is positively skewed i.e., there are outliers in the feature( Mean  >  Median  >  Mode).** "
      ],
      "metadata": {
        "id": "JLvBmIh5cXPF"
      }
    },
    {
      "cell_type": "markdown",
      "source": [
        "##### Comments"
      ],
      "metadata": {
        "id": "cFRmN07l92uI"
      }
    },
    {
      "cell_type": "code",
      "source": [
        "#code to print density plot for comments\n",
        "plt.figure(figsize=(12,5))\n",
        "sns.distplot(df['comments'])\n",
        "plt.title(\"Density plot for Comments\")\n",
        "plt.ylabel(\"Distribution\");\n",
        "plt.xlabel(\"Comments\");\n",
        "plt.axis([-100,1400 , 0 , 0.005]);"
      ],
      "metadata": {
        "colab": {
          "base_uri": "https://localhost:8080/",
          "height": 0
        },
        "id": "3eBK55R0GgRP",
        "outputId": "e4871c26-92e3-468e-c80e-eafc9cff82e3"
      },
      "execution_count": 47,
      "outputs": [
        {
          "output_type": "display_data",
          "data": {
            "text/plain": [
              "<Figure size 864x360 with 1 Axes>"
            ],
            "image/png": "[encoded data removed]"
          },
          "metadata": {}
        }
      ]
    },
    {
      "cell_type": "markdown",
      "source": [
        "##### Duration"
      ],
      "metadata": {
        "id": "Ng5FvSk8-Duj"
      }
    },
    {
      "cell_type": "code",
      "source": [
        "#code to print density plot for duration\n",
        "plt.figure(figsize=(12,5))\n",
        "sns.distplot(df['duration'])\n",
        "plt.title(\"Density plot for Duration\")\n",
        "plt.ylabel(\"Distribution\");\n",
        "plt.xlabel(\"Duration\");"
      ],
      "metadata": {
        "colab": {
          "base_uri": "https://localhost:8080/",
          "height": 0
        },
        "id": "31_IjfNYaQEg",
        "outputId": "58ebb35e-f785-4407-8cae-c620e99f01fc"
      },
      "execution_count": 48,
      "outputs": [
        {
          "output_type": "display_data",
          "data": {
            "text/plain": [
              "<Figure size 864x360 with 1 Axes>"
            ],
            "image/png": "[encoded data removed]"
          },
          "metadata": {}
        }
      ]
    },
    {
      "cell_type": "markdown",
      "source": [
        "*  **Above graph shows that most of the talk has duration lies between 0 - 2000 and few of them have more than 2000.**"
      ],
      "metadata": {
        "id": "ciPCnlJclPTj"
      }
    },
    {
      "cell_type": "markdown",
      "source": [],
      "metadata": {
        "id": "9YU-nk8ZFYo5"
      }
    },
    {
      "cell_type": "markdown",
      "source": [
        "#### **Bivariate Analysis**\n",
        "> * Analysis using two variable.\n",
        "      * Trying to relate with our target variable views.\n"
      ],
      "metadata": {
        "id": "K99FhLD6jVQ1"
      }
    },
    {
      "cell_type": "code",
      "source": [
        "#@title extracting date, month, year from published date and adding to dataset\n",
        "\n",
        "#Extracting month from publish_date column\n",
        "df['published_month'] = pd.DatetimeIndex(df['published_date']).month\n",
        "df['published_month'] = df['published_month'].apply(lambda x: \n",
        "                                                    calendar.month_abbr[x])\n",
        "\n",
        "#Extracting day from publish_date column\n",
        "df['published_day'] = pd.DatetimeIndex(df['published_date']).day\n",
        "\n",
        "#Extracting year from publish_date column\n",
        "df['published_year'] = pd.DatetimeIndex(df['published_date']).year\n",
        "\n",
        "df.head(1)"
      ],
      "metadata": {
        "colab": {
          "base_uri": "https://localhost:8080/",
          "height": 0
        },
        "cellView": "form",
        "id": "HeureLZLGyxY",
        "outputId": "00512dad-d987-46b4-f140-46f9c31f5a97"
      },
      "execution_count": 49,
      "outputs": [
        {
          "output_type": "execute_result",
          "data": {
            "text/plain": [
              "   talk_id                        title speaker_1    all_speakers  \\\n",
              "0        1  Averting the climate crisis   Al Gore  {0: 'Al Gore'}   \n",
              "\n",
              "                 occupations  \\\n",
              "0  {0: ['climate advocate']}   \n",
              "\n",
              "                                      about_speakers    views recorded_date  \\\n",
              "0  {0: 'Nobel Laureate Al Gore focused the world’...  3523392    2006-02-25   \n",
              "\n",
              "  published_date    event  ... comments duration  \\\n",
              "0     2006-06-27  TED2006  ...   272.00      977   \n",
              "\n",
              "                                              topics  \\\n",
              "0  ['alternative energy', 'cars', 'climate change...   \n",
              "\n",
              "                                       related_talks  \\\n",
              "0  {243: 'New thinking on the climate crisis', 54...   \n",
              "\n",
              "                                                 url  \\\n",
              "0  https://www.ted.com/talks/al_gore_averting_the...   \n",
              "\n",
              "                                         description  \\\n",
              "0  With the same humor and humanity he exuded in ...   \n",
              "\n",
              "                                          transcript published_month  \\\n",
              "0  Thank you so much, Chris. And it's truly a gre...             Jun   \n",
              "\n",
              "  published_day published_year  \n",
              "0            27           2006  \n",
              "\n",
              "[1 rows x 22 columns]"
            ],
            "text/html": [
              "\n",
              "  <div id=\"df-84e54d04-5be8-4a0c-903e-a2f094fe6896\">\n",
              "    <div class=\"colab-df-container\">\n",
              "      <div>\n",
              "<style scoped>\n",
              "    .dataframe tbody tr th:only-of-type {\n",
              "        vertical-align: middle;\n",
              "    }\n",
              "\n",
              "    .dataframe tbody tr th {\n",
              "        vertical-align: top;\n",
              "    }\n",
              "\n",
              "    .dataframe thead th {\n",
              "        text-align: right;\n",
              "    }\n",
              "</style>\n",
              "<table border=\"1\" class=\"dataframe\">\n",
              "  <thead>\n",
              "    <tr style=\"text-align: right;\">\n",
              "      <th></th>\n",
              "      <th>talk_id</th>\n",
              "      <th>title</th>\n",
              "      <th>speaker_1</th>\n",
              "      <th>all_speakers</th>\n",
              "      <th>occupations</th>\n",
              "      <th>about_speakers</th>\n",
              "      <th>views</th>\n",
              "      <th>recorded_date</th>\n",
              "      <th>published_date</th>\n",
              "      <th>event</th>\n",
              "      <th>...</th>\n",
              "      <th>comments</th>\n",
              "      <th>duration</th>\n",
              "      <th>topics</th>\n",
              "      <th>related_talks</th>\n",
              "      <th>url</th>\n",
              "      <th>description</th>\n",
              "      <th>transcript</th>\n",
              "      <th>published_month</th>\n",
              "      <th>published_day</th>\n",
              "      <th>published_year</th>\n",
              "    </tr>\n",
              "  </thead>\n",
              "  <tbody>\n",
              "    <tr>\n",
              "      <th>0</th>\n",
              "      <td>1</td>\n",
              "      <td>Averting the climate crisis</td>\n",
              "      <td>Al Gore</td>\n",
              "      <td>{0: 'Al Gore'}</td>\n",
              "      <td>{0: ['climate advocate']}</td>\n",
              "      <td>{0: 'Nobel Laureate Al Gore focused the world’...</td>\n",
              "      <td>3523392</td>\n",
              "      <td>2006-02-25</td>\n",
              "      <td>2006-06-27</td>\n",
              "      <td>TED2006</td>\n",
              "      <td>...</td>\n",
              "      <td>272.00</td>\n",
              "      <td>977</td>\n",
              "      <td>['alternative energy', 'cars', 'climate change...</td>\n",
              "      <td>{243: 'New thinking on the climate crisis', 54...</td>\n",
              "      <td>https://www.ted.com/talks/al_gore_averting_the...</td>\n",
              "      <td>With the same humor and humanity he exuded in ...</td>\n",
              "      <td>Thank you so much, Chris. And it's truly a gre...</td>\n",
              "      <td>Jun</td>\n",
              "      <td>27</td>\n",
              "      <td>2006</td>\n",
              "    </tr>\n",
              "  </tbody>\n",
              "</table>\n",
              "<p>1 rows × 22 columns</p>\n",
              "</div>\n",
              "      <button class=\"colab-df-convert\" onclick=\"convertToInteractive('df-84e54d04-5be8-4a0c-903e-a2f094fe6896')\"\n",
              "              title=\"Convert this dataframe to an interactive table.\"\n",
              "              style=\"display:none;\">\n",
              "        \n",
              "  <svg xmlns=\"http://www.w3.org/2000/svg\" height=\"24px\"viewBox=\"0 0 24 24\"\n",
              "       width=\"24px\">\n",
              "    <path d=\"M0 0h24v24H0V0z\" fill=\"none\"/>\n",
              "    <path d=\"M18.56 5.44l.94 2.06.94-2.06 2.06-.94-2.06-.94-.94-2.06-.94 2.06-2.06.94zm-11 1L8.5 8.5l.94-2.06 2.06-.94-2.06-.94L8.5 2.5l-.94 2.06-2.06.94zm10 10l.94 2.06.94-2.06 2.06-.94-2.06-.94-.94-2.06-.94 2.06-2.06.94z\"/><path d=\"M17.41 7.96l-1.37-1.37c-.4-.4-.92-.59-1.43-.59-.52 0-1.04.2-1.43.59L10.3 9.45l-7.72 7.72c-.78.78-.78 2.05 0 2.83L4 21.41c.39.39.9.59 1.41.59.51 0 1.02-.2 1.41-.59l7.78-7.78 2.81-2.81c.8-.78.8-2.07 0-2.86zM5.41 20L4 18.59l7.72-7.72 1.47 1.35L5.41 20z\"/>\n",
              "  </svg>\n",
              "      </button>\n",
              "      \n",
              "  <style>\n",
              "    .colab-df-container {\n",
              "      display:flex;\n",
              "      flex-wrap:wrap;\n",
              "      gap: 12px;\n",
              "    }\n",
              "\n",
              "    .colab-df-convert {\n",
              "      background-color: #E8F0FE;\n",
              "      border: none;\n",
              "      border-radius: 50%;\n",
              "      cursor: pointer;\n",
              "      display: none;\n",
              "      fill: #1967D2;\n",
              "      height: 32px;\n",
              "      padding: 0 0 0 0;\n",
              "      width: 32px;\n",
              "    }\n",
              "\n",
              "    .colab-df-convert:hover {\n",
              "      background-color: #E2EBFA;\n",
              "      box-shadow: 0px 1px 2px rgba(60, 64, 67, 0.3), 0px 1px 3px 1px rgba(60, 64, 67, 0.15);\n",
              "      fill: #174EA6;\n",
              "    }\n",
              "\n",
              "    [theme=dark] .colab-df-convert {\n",
              "      background-color: #3B4455;\n",
              "      fill: #D2E3FC;\n",
              "    }\n",
              "\n",
              "    [theme=dark] .colab-df-convert:hover {\n",
              "      background-color: #434B5C;\n",
              "      box-shadow: 0px 1px 3px 1px rgba(0, 0, 0, 0.15);\n",
              "      filter: drop-shadow(0px 1px 2px rgba(0, 0, 0, 0.3));\n",
              "      fill: #FFFFFF;\n",
              "    }\n",
              "  </style>\n",
              "\n",
              "      <script>\n",
              "        const buttonEl =\n",
              "          document.querySelector('#df-84e54d04-5be8-4a0c-903e-a2f094fe6896 button.colab-df-convert');\n",
              "        buttonEl.style.display =\n",
              "          google.colab.kernel.accessAllowed ? 'block' : 'none';\n",
              "\n",
              "        async function convertToInteractive(key) {\n",
              "          const element = document.querySelector('#df-84e54d04-5be8-4a0c-903e-a2f094fe6896');\n",
              "          const dataTable =\n",
              "            await google.colab.kernel.invokeFunction('convertToInteractive',\n",
              "                                                     [key], {});\n",
              "          if (!dataTable) return;\n",
              "\n",
              "          const docLinkHtml = 'Like what you see? Visit the ' +\n",
              "            '<a target=\"_blank\" href=https://colab.research.google.com/notebooks/data_table.ipynb>data table notebook</a>'\n",
              "            + ' to learn more about interactive tables.';\n",
              "          element.innerHTML = '';\n",
              "          dataTable['output_type'] = 'display_data';\n",
              "          await google.colab.output.renderOutput(dataTable, element);\n",
              "          const docLink = document.createElement('div');\n",
              "          docLink.innerHTML = docLinkHtml;\n",
              "          element.appendChild(docLink);\n",
              "        }\n",
              "      </script>\n",
              "    </div>\n",
              "  </div>\n",
              "  "
            ]
          },
          "metadata": {},
          "execution_count": 49
        }
      ]
    },
    {
      "cell_type": "markdown",
      "source": [
        "##### Speaker "
      ],
      "metadata": {
        "id": "pdHC39VlFn6L"
      }
    },
    {
      "cell_type": "code",
      "source": [],
      "metadata": {
        "id": "4gOYBL5xjeMT"
      },
      "execution_count": 49,
      "outputs": []
    },
    {
      "cell_type": "markdown",
      "source": [
        "## **Feature Engineering**"
      ],
      "metadata": {
        "id": "ADSPLnGgjCd8"
      }
    },
    {
      "cell_type": "code",
      "source": [
        "#Dropping reduntant columns \n",
        "df.drop(['talk_id','url'],axis=1,inplace=True)"
      ],
      "metadata": {
        "id": "jAfdYVkpFahl"
      },
      "execution_count": null,
      "outputs": []
    },
    {
      "cell_type": "code",
      "source": [
        "#categorizing data based on type\n",
        "numerical, categorical = [], []\n",
        "\n",
        "for col in df.columns:\n",
        "    if df[col].dtype == 'int' or df[col].dtype == 'float64':\n",
        "        numerical.append(col)\n",
        "    else:\n",
        "        categorical.append(col)\n",
        "        \n",
        "print('Numerical features: ', numerical)\n",
        "print('Categorical features: ', categorical)"
      ],
      "metadata": {
        "colab": {
          "base_uri": "https://localhost:8080/"
        },
        "id": "_eUUoDkFt7Mr",
        "outputId": "aae5d92e-2fd9-49d2-8d04-4aa5174356d3"
      },
      "execution_count": null,
      "outputs": [
        {
          "output_type": "stream",
          "name": "stdout",
          "text": [
            "Numerical features:  ['views', 'comments', 'duration']\n",
            "Categorical features:  ['title', 'speaker_1', 'all_speakers', 'occupations', 'about_speakers', 'recorded_date', 'published_date', 'event', 'native_lang', 'available_lang', 'topics', 'related_talks', 'description', 'transcript']\n"
          ]
        }
      ]
    },
    {
      "cell_type": "code",
      "source": [],
      "metadata": {
        "id": "d7abB-0Oekry"
      },
      "execution_count": null,
      "outputs": []
    }
  ]
}